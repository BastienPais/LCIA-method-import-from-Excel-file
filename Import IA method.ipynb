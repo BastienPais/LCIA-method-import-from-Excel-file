{
 "cells": [
  {
   "cell_type": "markdown",
   "id": "73437519",
   "metadata": {},
   "source": [
    "# Importer une méthode d'Impact Assessment"
   ]
  },
  {
   "cell_type": "code",
   "execution_count": 1,
   "id": "bc190df8",
   "metadata": {},
   "outputs": [],
   "source": [
    "import os\n",
    "import matplotlib.pyplot as plt\n",
    "import numpy as np\n",
    "import pandas as pd\n",
    "import brightway2 as bw\n",
    "import bw2io as bi\n",
    "import bw2data as bd\n",
    "import bw2analyzer as bw2\n",
    "import bw2calc as bc\n",
    "from brightway2 import *\n",
    "from bw2data.parameters import ActivityParameter, DatabaseParameter, ProjectParameter, Group\n",
    "from os.path import commonprefix\n",
    "import tabulate"
   ]
  },
  {
   "cell_type": "markdown",
   "id": "321b4ee8",
   "metadata": {},
   "source": [
    "Il faut d'abord se placer dans le projet souhaité"
   ]
  },
  {
   "cell_type": "code",
   "execution_count": 2,
   "id": "511bde4b",
   "metadata": {},
   "outputs": [],
   "source": [
    "bw.projects.set_current(\"my_project\")"
   ]
  },
  {
   "cell_type": "code",
   "execution_count": 3,
   "id": "75ed8ae4",
   "metadata": {},
   "outputs": [],
   "source": [
    "#Import méthode LCIA depuis un fichier Excel\n",
    "lcia_method = bi.ExcelLCIAImporter(\n",
    "    filepath=r\"my_LCIA_file.xlsx\", \n",
    "    name=(\"my_name\", \"my_precision_name\"), \n",
    "    description=\"my_description\" ,\n",
    "    unit=\"my_unit\",\n",
    "    # On peut ajouter d'autres metadata\n",
    ")"
   ]
  },
  {
   "cell_type": "markdown",
   "id": "74532578",
   "metadata": {},
   "source": [
    "L'ExcelLCIAImporter a potentiellement considéré des lignes vides comme non-vides, il faut donc créer une méthode pour les éliminer:"
   ]
  },
  {
   "cell_type": "code",
   "execution_count": 4,
   "id": "5e785aae",
   "metadata": {},
   "outputs": [],
   "source": [
    "def drop_empty_lines(data):\n",
    "    for method in data:\n",
    "        method['exchanges'] = [obj for obj in method['exchanges'] if obj['name']]\n",
    "    return data"
   ]
  },
  {
   "cell_type": "code",
   "execution_count": 5,
   "id": "c5b84bbc",
   "metadata": {},
   "outputs": [
    {
     "name": "stdout",
     "output_type": "stream",
     "text": [
      "Applying strategy: drop_empty_lines\n"
     ]
    }
   ],
   "source": [
    "lcia_method.apply_strategy(drop_empty_lines)"
   ]
  },
  {
   "cell_type": "markdown",
   "id": "0bd62c62",
   "metadata": {},
   "source": [
    "Afin de mettre en forme les données issues de l'Excel dans le format exploitable par brightway, il faut faire:"
   ]
  },
  {
   "cell_type": "code",
   "execution_count": 8,
   "id": "4180bb59",
   "metadata": {},
   "outputs": [
    {
     "name": "stdout",
     "output_type": "stream",
     "text": [
      "Applying strategy: csv_restore_tuples\n",
      "Applying strategy: csv_numerize\n",
      "Applying strategy: csv_drop_unknown\n",
      "Applying strategy: set_biosphere_type\n",
      "Applying strategy: drop_unspecified_subcategories\n",
      "Applying strategy: link_iterable_by_fields\n",
      "Applying strategy: drop_falsey_uncertainty_fields_but_keep_zeros\n",
      "Applying strategy: convert_uncertainty_types_to_integers\n",
      "Applied 8 strategies in 0.09 seconds\n"
     ]
    }
   ],
   "source": [
    "lcia_method.apply_strategies()"
   ]
  },
  {
   "cell_type": "markdown",
   "id": "35e007d4",
   "metadata": {},
   "source": [
    "Pour vérifier que les liens avec la biosphère ont été correctement effectués, il faut qu'il y ait 0 unliked cfs en faisant:"
   ]
  },
  {
   "cell_type": "code",
   "execution_count": 9,
   "id": "fdc0405c",
   "metadata": {},
   "outputs": [
    {
     "name": "stdout",
     "output_type": "stream",
     "text": [
      "1 methods\n",
      "6 cfs\n",
      "0 unlinked cfs\n"
     ]
    },
    {
     "data": {
      "text/plain": [
       "(1, 6, 0)"
      ]
     },
     "execution_count": 9,
     "metadata": {},
     "output_type": "execute_result"
    }
   ],
   "source": [
    "lcia_method.statistics()"
   ]
  },
  {
   "cell_type": "markdown",
   "id": "e0ec1f0f",
   "metadata": {},
   "source": [
    "Si tous les facteurs de caractérisations ne sont pas liés, on peut afficher les erreurs comme ceci:"
   ]
  },
  {
   "cell_type": "code",
   "execution_count": 11,
   "id": "c74c81ac",
   "metadata": {},
   "outputs": [
    {
     "name": "stdout",
     "output_type": "stream",
     "text": [
      "{'name': 'Carbon dioxide, from soil or biomass stock', 'categories': ('air', 'indoor'), 'amount': 3.53e-13, 'type': 'biosphere'}\n",
      "{'name': 'Methane', 'categories': ('air', 'urban air close to ground'), 'amount': 1.59e-12, 'type': 'biosphere'}\n",
      "{'name': 'NMVOC, non-methane volatile organic compounds, unspecified origin', 'categories': ('air',), 'amount': 1.06e-12, 'type': 'biosphere'}\n",
      "{'name': 'NMVOC, non-methane volatile organic compounds, unspecified origin', 'categories': ('air', 'low population density, long-term'), 'amount': 1.06e-12, 'type': 'biosphere'}\n",
      "{'name': 'NMVOC, non-methane volatile organic compounds, unspecified origin', 'categories': ('air', 'lower stratosphere + upper troposphere'), 'amount': 1.06e-12, 'type': 'biosphere'}\n",
      "{'name': 'NMVOC, non-methane volatile organic compounds, unspecified origin', 'categories': ('air', 'non-urban air or from high stacks'), 'amount': 1.06e-12, 'type': 'biosphere'}\n",
      "{'name': 'NMVOC, non-methane volatile organic compounds, unspecified origin', 'categories': ('air', 'urban air close to ground'), 'amount': 1.06e-12, 'type': 'biosphere'}\n"
     ]
    }
   ],
   "source": [
    "for exc in lcia_method.unlinked:\n",
    "    print(exc)"
   ]
  },
  {
   "cell_type": "markdown",
   "id": "3875640e",
   "metadata": {},
   "source": [
    "Sinon, on écrit la méthode dans le projet:"
   ]
  },
  {
   "cell_type": "code",
   "execution_count": 10,
   "id": "6f9d6402",
   "metadata": {},
   "outputs": [
    {
     "name": "stdout",
     "output_type": "stream",
     "text": [
      "Wrote 1 LCIA methods with 6 characterization factors\n"
     ]
    }
   ],
   "source": [
    "lcia_method.write_methods(overwrite=True)\n",
    "#Si une méthode existe déjà avec le même nom et qu'on veut écrire par dessus (MàJ, etc..) il faut inscrire overwrite=True dans les parenthèses"
   ]
  }
 ],
 "metadata": {
  "kernelspec": {
   "display_name": "Python 3 (ipykernel)",
   "language": "python",
   "name": "python3"
  },
  "language_info": {
   "codemirror_mode": {
    "name": "ipython",
    "version": 3
   },
   "file_extension": ".py",
   "mimetype": "text/x-python",
   "name": "python",
   "nbconvert_exporter": "python",
   "pygments_lexer": "ipython3",
   "version": "3.9.16"
  }
 },
 "nbformat": 4,
 "nbformat_minor": 5
}
